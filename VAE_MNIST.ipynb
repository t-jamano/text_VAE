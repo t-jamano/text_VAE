{
 "cells": [
  {
   "cell_type": "code",
   "execution_count": 155,
   "metadata": {
    "collapsed": false
   },
   "outputs": [],
   "source": [
    "%matplotlib inline\n",
    "from keras.layers import Input, Dense, Lambda, merge, Embedding, Flatten\n",
    "from keras.models import Model, Sequential\n",
    "from keras import backend as K\n",
    "from keras.objectives import binary_crossentropy\n",
    "import matplotlib.pyplot as plt\n",
    "from keras.datasets import mnist\n",
    "import numpy as np"
   ]
  },
  {
   "cell_type": "code",
   "execution_count": 35,
   "metadata": {
    "collapsed": false
   },
   "outputs": [],
   "source": [
    "batch_size = 256\n",
    "original_dim = 784\n",
    "intermediate_dim = 256\n",
    "latent_dim = 32\n",
    "epsilon_std = 1\n",
    "nb_epoch = 50\n",
    "\n",
    "x = Input((original_dim,))\n",
    "h = Dense(intermediate_dim, activation='relu')(x)\n",
    "z_mean = Dense(latent_dim)(h)\n",
    "z_log_sigma = Dense(latent_dim)(h)\n",
    "\n",
    "def sampling(args):\n",
    "    z_mean, z_log_sigma = args\n",
    "    batch = K.shape(z_mean)[0]\n",
    "    dim = K.int_shape(z_mean)[1]\n",
    "    epsilon = K.random_normal(shape=(batch, dim),\n",
    "                              mean=0., std=1)\n",
    "    return z_mean + K.exp(z_log_sigma) * epsilon\n",
    "\n",
    "# note that \"output_shape\" isn't necessary with the TensorFlow backend\n",
    "# so you could write `Lambda(sampling)([z_mean, z_log_sigma])`\n",
    "z = Lambda(sampling, output_shape=(latent_dim,))([z_mean, z_log_sigma])\n",
    "\n",
    "decoder_h = Dense(intermediate_dim, activation='relu')\n",
    "decoder_mean = Dense(original_dim, activation='sigmoid')\n",
    "h_decoded = decoder_h(z)\n",
    "x_decoded_mean = decoder_mean(h_decoded)\n",
    "\n",
    "# end-to-end autoencoder\n",
    "vae = Model(x, x_decoded_mean)\n",
    "\n",
    "# encoder, from inputs to latent space\n",
    "encoder = Model(x, z)\n",
    "\n",
    "# generator, from latent space to reconstructed inputs\n",
    "decoder_input = Input(shape=(latent_dim,))\n",
    "_h_decoded = decoder_h(decoder_input)\n",
    "_x_decoded_mean = decoder_mean(_h_decoded)\n",
    "decoder = Model(decoder_input, _x_decoded_mean)"
   ]
  },
  {
   "cell_type": "code",
   "execution_count": 36,
   "metadata": {
    "collapsed": false,
    "scrolled": true
   },
   "outputs": [
    {
     "name": "stdout",
     "output_type": "stream",
     "text": [
      "Train on 60000 samples, validate on 10000 samples\n",
      "Epoch 1/50\n",
      "2s - loss: 220.2458 - val_loss: 166.0347\n",
      "Epoch 2/50\n",
      "1s - loss: 153.3418 - val_loss: 141.2353\n",
      "Epoch 3/50\n",
      "1s - loss: 135.5525 - val_loss: 128.7800\n",
      "Epoch 4/50\n",
      "1s - loss: 126.7254 - val_loss: 122.5000\n",
      "Epoch 5/50\n",
      "1s - loss: 120.9129 - val_loss: 117.0878\n",
      "Epoch 6/50\n",
      "1s - loss: 116.7346 - val_loss: 114.0122\n",
      "Epoch 7/50\n",
      "1s - loss: 113.3615 - val_loss: 111.6732\n",
      "Epoch 8/50\n",
      "1s - loss: 110.5474 - val_loss: 109.0626\n",
      "Epoch 9/50\n",
      "1s - loss: 108.3619 - val_loss: 106.3541\n",
      "Epoch 10/50\n",
      "2s - loss: 106.5801 - val_loss: 104.8310\n",
      "Epoch 11/50\n",
      "2s - loss: 105.0341 - val_loss: 104.2725\n",
      "Epoch 12/50\n",
      "1s - loss: 103.7626 - val_loss: 102.2716\n",
      "Epoch 13/50\n",
      "1s - loss: 102.6721 - val_loss: 101.3687\n",
      "Epoch 14/50\n",
      "1s - loss: 101.7341 - val_loss: 101.6368\n",
      "Epoch 15/50\n",
      "1s - loss: 100.8149 - val_loss: 100.2509\n",
      "Epoch 16/50\n",
      "1s - loss: 100.0782 - val_loss: 99.4330\n",
      "Epoch 17/50\n",
      "1s - loss: 99.3760 - val_loss: 98.2676\n",
      "Epoch 18/50\n",
      "2s - loss: 98.7821 - val_loss: 97.7390\n",
      "Epoch 19/50\n",
      "2s - loss: 98.2005 - val_loss: 97.1811\n",
      "Epoch 20/50\n",
      "2s - loss: 97.6507 - val_loss: 97.5731\n",
      "Epoch 21/50\n",
      "1s - loss: 97.2077 - val_loss: 96.7986\n",
      "Epoch 22/50\n",
      "1s - loss: 96.8039 - val_loss: 96.1250\n",
      "Epoch 23/50\n",
      "1s - loss: 96.3722 - val_loss: 96.4891\n",
      "Epoch 24/50\n",
      "1s - loss: 96.0020 - val_loss: 95.3665\n",
      "Epoch 25/50\n",
      "1s - loss: 95.7552 - val_loss: 95.2812\n",
      "Epoch 26/50\n",
      "1s - loss: 95.4060 - val_loss: 95.3651\n",
      "Epoch 27/50\n",
      "2s - loss: 95.1410 - val_loss: 94.7010\n",
      "Epoch 28/50\n",
      "2s - loss: 94.8861 - val_loss: 94.1455\n",
      "Epoch 29/50\n",
      "1s - loss: 94.6239 - val_loss: 94.2804\n",
      "Epoch 30/50\n",
      "1s - loss: 94.4067 - val_loss: 94.1247\n",
      "Epoch 31/50\n",
      "1s - loss: 94.1817 - val_loss: 94.5688\n",
      "Epoch 32/50\n",
      "1s - loss: 94.0129 - val_loss: 93.6528\n",
      "Epoch 33/50\n",
      "1s - loss: 93.8240 - val_loss: 93.4610\n",
      "Epoch 34/50\n",
      "1s - loss: 93.6531 - val_loss: 93.4218\n",
      "Epoch 35/50\n",
      "1s - loss: 93.4838 - val_loss: 93.3024\n",
      "Epoch 36/50\n",
      "1s - loss: 93.2915 - val_loss: 93.2596\n",
      "Epoch 37/50\n",
      "1s - loss: 93.1314 - val_loss: 92.9412\n",
      "Epoch 38/50\n",
      "1s - loss: 93.0237 - val_loss: 92.7630\n",
      "Epoch 39/50\n",
      "1s - loss: 92.8581 - val_loss: 92.4155\n",
      "Epoch 40/50\n",
      "1s - loss: 92.7379 - val_loss: 93.1411\n",
      "Epoch 41/50\n",
      "1s - loss: 92.6048 - val_loss: 92.2943\n",
      "Epoch 42/50\n",
      "1s - loss: 92.4813 - val_loss: 92.2032\n",
      "Epoch 43/50\n",
      "2s - loss: 92.3675 - val_loss: 92.1820\n",
      "Epoch 44/50\n",
      "2s - loss: 92.1953 - val_loss: 92.0597\n",
      "Epoch 45/50\n",
      "1s - loss: 92.1406 - val_loss: 92.0821\n",
      "Epoch 46/50\n",
      "1s - loss: 92.0491 - val_loss: 91.6454\n",
      "Epoch 47/50\n",
      "1s - loss: 91.9072 - val_loss: 91.5657\n",
      "Epoch 48/50\n",
      "1s - loss: 91.8690 - val_loss: 91.9143\n",
      "Epoch 49/50\n",
      "1s - loss: 91.7339 - val_loss: 91.9912\n",
      "Epoch 50/50\n",
      "2s - loss: 91.6692 - val_loss: 91.3349\n"
     ]
    },
    {
     "data": {
      "text/plain": [
       "<keras.callbacks.History at 0x7f680c606908>"
      ]
     },
     "execution_count": 36,
     "metadata": {},
     "output_type": "execute_result"
    }
   ],
   "source": [
    "def vae_loss(y_true, y_pred):\n",
    "    \"\"\" Calculate loss = reconstruction loss + KL loss for each data in minibatch \"\"\"\n",
    "    # E[log P(X|z)]\n",
    "    recon = K.sum(K.binary_crossentropy(y_pred, y_true), axis=1)\n",
    "    # D_KL(Q(z|X) || P(z|X)); calculate in closed form as both dist. are Gaussian\n",
    "    kl = 0.5 * K.sum(K.exp(z_log_sigma) + K.square(z_mean) - 1. - z_log_sigma, axis=1)\n",
    "\n",
    "    return recon + kl\n",
    "\n",
    "\n",
    "\n",
    "\n",
    "vae.compile(optimizer='adadelta', loss=vae_loss)\n",
    "\n",
    "(x_train, y_train), (x_test, y_test) = mnist.load_data()\n",
    "\n",
    "x_train = x_train.astype('float32') / 255.\n",
    "x_test = x_test.astype('float32') / 255.\n",
    "x_train = x_train.reshape((len(x_train), np.prod(x_train.shape[1:])))\n",
    "x_test = x_test.reshape((len(x_test), np.prod(x_test.shape[1:])))\n",
    "\n",
    "vae.fit(x_train, x_train,\n",
    "        verbose=2,\n",
    "        nb_epoch=nb_epoch,\n",
    "        batch_size=batch_size,\n",
    "        validation_data=(x_test, x_test))"
   ]
  },
  {
   "cell_type": "code",
   "execution_count": 37,
   "metadata": {
    "collapsed": false
   },
   "outputs": [
    {
     "data": {
      "image/png": "[encoded data removed]",
      "text/plain": [
       "<matplotlib.figure.Figure at 0x7f68195327f0>"
      ]
     },
     "metadata": {},
     "output_type": "display_data"
    }
   ],
   "source": [
    "# use Matplotlib (don't ask)\n",
    "import matplotlib.pyplot as plt\n",
    "\n",
    "# encode and decode some digits\n",
    "# note that we take them from the *test* set\n",
    "encoded_imgs = encoder.predict(x_test)\n",
    "decoded_imgs = decoder.predict(encoded_imgs)\n",
    "\n",
    "n = 10  # how many digits we will display\n",
    "plt.figure(figsize=(20, 4))\n",
    "for i in range(n):\n",
    "    # display original\n",
    "    ax = plt.subplot(2, n, i + 1)\n",
    "    plt.imshow(x_test[i].reshape(28, 28))\n",
    "    plt.gray()\n",
    "    ax.get_xaxis().set_visible(False)\n",
    "    ax.get_yaxis().set_visible(False)\n",
    "\n",
    "    # display reconstruction\n",
    "    ax = plt.subplot(2, n, i + 1 + n)\n",
    "    plt.imshow(decoded_imgs[i].reshape(28, 28))\n",
    "    plt.gray()\n",
    "    ax.get_xaxis().set_visible(False)\n",
    "    ax.get_yaxis().set_visible(False)\n",
    "plt.show()"
   ]
  },
  {
   "cell_type": "code",
   "execution_count": 38,
   "metadata": {
    "collapsed": false
   },
   "outputs": [
    {
     "data": {
      "image/png": "[encoded data removed]",
      "text/plain": [
       "<matplotlib.figure.Figure at 0x7f681912ee48>"
      ]
     },
     "metadata": {},
     "output_type": "display_data"
    }
   ],
   "source": [
    "x_test_encoded = encoder.predict(x_test, batch_size=batch_size)\n",
    "plt.figure(figsize=(6, 6))\n",
    "plt.scatter(x_test_encoded[:, 0], x_test_encoded[:, 1], c=y_test)\n",
    "plt.colorbar()\n",
    "plt.show()"
   ]
  },
  {
   "cell_type": "markdown",
   "metadata": {},
   "source": [
    "# Keras's implementation"
   ]
  },
  {
   "cell_type": "markdown",
   "metadata": {},
   "source": [
    "# Agustinus Kristiadi's Implementation\n",
    "https://wiseodd.github.io/techblog/2016/12/10/variational-autoencoder/\n"
   ]
  },
  {
   "cell_type": "code",
   "execution_count": 172,
   "metadata": {
    "collapsed": false,
    "scrolled": true
   },
   "outputs": [],
   "source": [
    "\n",
    "from tensorflow.examples.tutorials.mnist import input_data\n",
    "from keras.layers import Input, Dense, Lambda\n",
    "from keras.models import Model\n",
    "from keras.objectives import binary_crossentropy\n",
    "from keras.callbacks import LearningRateScheduler\n",
    "\n",
    "import numpy as np\n",
    "import matplotlib.pyplot as plt\n",
    "import keras.backend as K\n",
    "import tensorflow as tf\n",
    "\n",
    "\n",
    "m = 1024\n",
    "n_z = 32\n",
    "n_epoch = 15\n",
    "\n",
    "class VAE():\n",
    "\n",
    "    def __init__(self, input_dim, hidden_dim=256, latent_dim=32):\n",
    "        \n",
    "        \n",
    "        self.input_dim = input_dim\n",
    "        self.hidden_dim = hidden_dim\n",
    "        self.latent_dim = latent_dim\n",
    "        \n",
    "        \n",
    "        # Q(z|X) -- encoder\n",
    "        inputs = Input(shape=(input_dim,))\n",
    "        h_q = Dense(hidden_dim, activation='relu')(inputs)\n",
    "        mu = Dense(latent_dim, activation='linear')(h_q)\n",
    "        log_sigma = Dense(latent_dim, activation='linear')(h_q)\n",
    "\n",
    "        def sample_z(args):\n",
    "            mu, log_sigma = args\n",
    "            batch = K.shape(mu)[0]\n",
    "            dim = K.int_shape(mu)[1]\n",
    "            eps = K.random_normal(shape=(batch, dim), mean=0., std=1.)\n",
    "            return mu + K.exp(log_sigma / 2) * eps\n",
    "\n",
    "\n",
    "\n",
    "        # Sample z ~ Q(z|X)\n",
    "        z = Lambda(sample_z)([mu, log_sigma])\n",
    "\n",
    "        # P(X|z) -- decoder\n",
    "        decoder_hidden = Dense(hidden_dim, activation='relu')\n",
    "        decoder_out = Dense(input_dim, activation='sigmoid')\n",
    "\n",
    "        h_p = decoder_hidden(z)\n",
    "        outputs = decoder_out(h_p)\n",
    "\n",
    "        # Overall VAE model, for reconstruction and training\n",
    "        self.model = Model(inputs, outputs)\n",
    "\n",
    "        # Encoder model, to encode input into latent variable\n",
    "        # We use the mean as the output as it is the center point, the representative of the gaussian\n",
    "        self.encoder = Model(inputs, mu)\n",
    "\n",
    "        # Generator model, generate new data given latent variable z\n",
    "        d_in = Input(shape=(latent_dim,))\n",
    "        d_h = decoder_hidden(d_in)\n",
    "        d_out = decoder_out(d_h)\n",
    "        self.decoder = Model(d_in, d_out)\n",
    "\n",
    "        def vae_loss(y_true, y_pred):\n",
    "            \"\"\" Calculate loss = reconstruction loss + KL loss for each data in minibatch \"\"\"\n",
    "            # E[log P(X|z)]\n",
    "            recon = K.sum(K.binary_crossentropy(y_pred, y_true), axis=1)\n",
    "            # D_KL(Q(z|X) || P(z|X)); calculate in closed form as both dist. are Gaussian\n",
    "            kl = 0.5 * K.sum(K.exp(log_sigma) + K.square(mu) - 1. - log_sigma, axis=1)\n",
    "\n",
    "            return recon + kl\n",
    "        \n",
    "        self.model.compile(optimizer='adam', loss=vae_loss)\n",
    "        \n",
    "        \n",
    "\n",
    "\n",
    "# (x_train, y_train), (x_test, y_test) = mnist.load_data()\n",
    "\n",
    "# x_train = x_train.astype('float32') / 255.\n",
    "# x_test = x_test.astype('float32') / 255.\n",
    "# x_train = x_train.reshape((len(x_train), np.prod(x_train.shape[1:])))\n",
    "# x_test = x_test.reshape((len(x_test), np.prod(x_test.shape[1:])))\n",
    "\n",
    "# vae = VAE(784, 256, 32)\n",
    "\n",
    "# vae.model.fit(x_train, x_train, batch_size=m, nb_epoch=n_epoch, verbose=2, validation_split=0.2)"
   ]
  },
  {
   "cell_type": "code",
   "execution_count": 55,
   "metadata": {
    "collapsed": false
   },
   "outputs": [
    {
     "data": {
      "image/png": "[encoded data removed]",
      "text/plain": [
       "<matplotlib.figure.Figure at 0x7f68162bcb70>"
      ]
     },
     "metadata": {},
     "output_type": "display_data"
    }
   ],
   "source": [
    "x_test_encoded = vae.encoder.predict(x_test)\n",
    "plt.figure(figsize=(6, 6))\n",
    "plt.scatter(x_test_encoded[:, 0], x_test_encoded[:, 1], c=y_test)\n",
    "plt.colorbar()\n",
    "plt.show()\n"
   ]
  },
  {
   "cell_type": "code",
   "execution_count": 56,
   "metadata": {
    "collapsed": false
   },
   "outputs": [
    {
     "data": {
      "image/png": "[encoded data removed]",
      "text/plain": [
       "<matplotlib.figure.Figure at 0x7f6815bda668>"
      ]
     },
     "metadata": {},
     "output_type": "display_data"
    }
   ],
   "source": [
    "# use Matplotlib (don't ask)\n",
    "import matplotlib.pyplot as plt\n",
    "\n",
    "# encode and decode some digits\n",
    "# note that we take them from the *test* set\n",
    "encoded_imgs = vae.encoder.predict(x_test)\n",
    "decoded_imgs = vae.decoder.predict(encoded_imgs)\n",
    "\n",
    "n = 10  # how many digits we will display\n",
    "plt.figure(figsize=(20, 4))\n",
    "for i in range(n):\n",
    "    # display original\n",
    "    ax = plt.subplot(2, n, i + 1)\n",
    "    plt.imshow(x_test[i].reshape(28, 28))\n",
    "    plt.gray()\n",
    "    ax.get_xaxis().set_visible(False)\n",
    "    ax.get_yaxis().set_visible(False)\n",
    "\n",
    "    # display reconstruction\n",
    "    ax = plt.subplot(2, n, i + 1 + n)\n",
    "    plt.imshow(decoded_imgs[i].reshape(28, 28))\n",
    "    plt.gray()\n",
    "    ax.get_xaxis().set_visible(False)\n",
    "    ax.get_yaxis().set_visible(False)\n",
    "plt.show()"
   ]
  },
  {
   "cell_type": "code",
   "execution_count": 57,
   "metadata": {
    "collapsed": true
   },
   "outputs": [],
   "source": [
    "import pandas as pd"
   ]
  },
  {
   "cell_type": "code",
   "execution_count": 58,
   "metadata": {
    "collapsed": true
   },
   "outputs": [],
   "source": [
    "TRAIN_DATA_FILE = '/data/chzho/deepqts/train_data/unifiedclick/join_oneyearsample_2B_training_all_top10'\n",
    "TEST_DATA_FILE = '/data/chzho/deepqts/test_data/uhrs/unified/uhrs_do_10'\n",
    "batch_size = 1000\n",
    "MAX_SEQUENCE_LENGTH = 5\n",
    "MAX_NB_WORDS = 50000\n"
   ]
  },
  {
   "cell_type": "code",
   "execution_count": 59,
   "metadata": {
    "collapsed": false
   },
   "outputs": [
    {
     "name": "stdout",
     "output_type": "stream",
     "text": [
      "CPU times: user 1.01 s, sys: 196 ms, total: 1.2 s\n",
      "Wall time: 1.12 s\n"
     ]
    }
   ],
   "source": [
    "%%time\n",
    "num_read_row = 100000\n",
    "df = pd.read_csv(TRAIN_DATA_FILE, sep=\"\\t\", usecols=[0,1,3], names=['label', 'q', 'd'], header=None , error_bad_lines=False, nrows=num_read_row)\n",
    "df = df.dropna()"
   ]
  },
  {
   "cell_type": "code",
   "execution_count": 60,
   "metadata": {
    "collapsed": true
   },
   "outputs": [],
   "source": [
    "texts = df.q.tolist() + df.d.tolist()"
   ]
  },
  {
   "cell_type": "markdown",
   "metadata": {},
   "source": [
    "# TF-IDF features"
   ]
  },
  {
   "cell_type": "code",
   "execution_count": 62,
   "metadata": {
    "collapsed": false
   },
   "outputs": [
    {
     "name": "stdout",
     "output_type": "stream",
     "text": [
      "CPU times: user 2.84 s, sys: 264 ms, total: 3.1 s\n",
      "Wall time: 2.79 s\n"
     ]
    }
   ],
   "source": [
    "%%time\n",
    "from sklearn.feature_extraction.text import CountVectorizer\n",
    "from sklearn.feature_extraction.text import TfidfTransformer\n",
    "\n",
    "count_vect = CountVectorizer(max_features=MAX_NB_WORDS)\n",
    "x_train = count_vect.fit_transform(texts)\n",
    "tf_transformer = TfidfTransformer().fit(x_train)\n",
    "x_train = tf_transformer.transform(x_train)\n",
    "y_train = df.label.values"
   ]
  },
  {
   "cell_type": "code",
   "execution_count": 71,
   "metadata": {
    "collapsed": false
   },
   "outputs": [],
   "source": [
    "x_train = x_train.todense()"
   ]
  },
  {
   "cell_type": "code",
   "execution_count": 73,
   "metadata": {
    "collapsed": true
   },
   "outputs": [],
   "source": [
    "text_vae = VAE(MAX_NB_WORDS)"
   ]
  },
  {
   "cell_type": "code",
   "execution_count": 77,
   "metadata": {
    "collapsed": false
   },
   "outputs": [
    {
     "name": "stdout",
     "output_type": "stream",
     "text": [
      "Train on 160000 samples, validate on 40000 samples\n",
      "Epoch 1/15\n",
      "261s - loss: 1140.6824 - val_loss: 62.6132\n",
      "Epoch 2/15\n",
      "244s - loss: 49.7789 - val_loss: 49.8124\n",
      "Epoch 3/15\n",
      "246s - loss: 41.1500 - val_loss: 42.3956\n",
      "Epoch 4/15\n",
      "249s - loss: 36.5805 - val_loss: 38.7982\n",
      "Epoch 5/15\n",
      "250s - loss: 34.3501 - val_loss: 36.9701\n",
      "Epoch 6/15\n",
      "252s - loss: 33.0301 - val_loss: 35.9837\n",
      "Epoch 7/15\n",
      "251s - loss: 32.1876 - val_loss: 35.3331\n",
      "Epoch 8/15\n",
      "253s - loss: 31.6129 - val_loss: 34.8968\n",
      "Epoch 9/15\n",
      "255s - loss: 31.1895 - val_loss: 34.1168\n",
      "Epoch 10/15\n",
      "255s - loss: 30.8012 - val_loss: 34.0413\n",
      "Epoch 11/15\n",
      "257s - loss: 30.5628 - val_loss: 33.6279\n",
      "Epoch 12/15\n",
      "258s - loss: 30.2496 - val_loss: 33.4836\n",
      "Epoch 13/15\n",
      "259s - loss: 30.0606 - val_loss: 33.2419\n",
      "Epoch 14/15\n",
      "256s - loss: 29.8500 - val_loss: 33.1593\n",
      "Epoch 15/15\n",
      "253s - loss: 29.6335 - val_loss: 32.6520\n"
     ]
    },
    {
     "data": {
      "text/plain": [
       "<keras.callbacks.History at 0x7f6815cb6fd0>"
      ]
     },
     "execution_count": 77,
     "metadata": {},
     "output_type": "execute_result"
    }
   ],
   "source": [
    "text_vae.model.fit(x_train, x_train, batch_size=m, nb_epoch=n_epoch, verbose=2, validation_split=0.2)"
   ]
  },
  {
   "cell_type": "code",
   "execution_count": 87,
   "metadata": {
    "collapsed": true
   },
   "outputs": [],
   "source": [
    "text_vae.model.save_weights(\"text_vae_on_small_data.weights.h5\")"
   ]
  },
  {
   "cell_type": "code",
   "execution_count": 88,
   "metadata": {
    "collapsed": true
   },
   "outputs": [],
   "source": [
    "text_vae.model.save(\"text_vae_on_small_data.h5\")"
   ]
  },
  {
   "cell_type": "code",
   "execution_count": 82,
   "metadata": {
    "collapsed": true
   },
   "outputs": [],
   "source": [
    "class MLP():\n",
    "    def __init__(self, input_dim, latent_dim=256):\n",
    "\n",
    "        que_input = Input(shape=(input_dim,))\n",
    "        doc_input = Input(shape=(input_dim,))\n",
    "\n",
    "        concat = merge([que_input, doc_input], mode=\"concat\")\n",
    "\n",
    "\n",
    "        hidden_layer = Dense(latent_dim, activation='relu')(concat)\n",
    "        pred = Dense(1, activation='sigmoid')(hidden_layer)\n",
    "\n",
    "        self.model = Model(input=[que_input, doc_input], output=pred)\n",
    "        self.model.compile(loss='binary_crossentropy', optimizer='adam', metrics=['accuracy'])\n"
   ]
  },
  {
   "cell_type": "code",
   "execution_count": 79,
   "metadata": {
    "collapsed": false
   },
   "outputs": [
    {
     "name": "stdout",
     "output_type": "stream",
     "text": [
      "CPU times: user 7.3 s, sys: 888 ms, total: 8.19 s\n",
      "Wall time: 7.47 s\n"
     ]
    }
   ],
   "source": [
    "%%time\n",
    "import pandas as pd\n",
    "df_test = pd.read_csv(TEST_DATA_FILE, sep=\"\\t\", usecols=[0,1,3], names=['label', 'q', 'd'], header=None , error_bad_lines=False)\n",
    "df_test = df_test.dropna()"
   ]
  },
  {
   "cell_type": "markdown",
   "metadata": {},
   "source": [
    "## TODO: Testing dataset contains lot of non-english words"
   ]
  },
  {
   "cell_type": "code",
   "execution_count": 107,
   "metadata": {
    "collapsed": false
   },
   "outputs": [],
   "source": [
    "# test_sample_num = 5000\n",
    "# q_train = tf_transformer.transform(df_test_small.q.tolist()[:test_sample_num])\n",
    "# d_train = tf_transformer.transform(df_test_small.d.tolist()[:test_sample_num])\n",
    "# y_train = df_test_small.label.values[:test_sample_num]\n"
   ]
  },
  {
   "cell_type": "code",
   "execution_count": 109,
   "metadata": {
    "collapsed": false
   },
   "outputs": [
    {
     "data": {
      "text/plain": [
       "(100000,)"
      ]
     },
     "execution_count": 109,
     "metadata": {},
     "output_type": "execute_result"
    }
   ],
   "source": [
    "y_train.shape"
   ]
  },
  {
   "cell_type": "code",
   "execution_count": 111,
   "metadata": {
    "collapsed": false
   },
   "outputs": [
    {
     "name": "stdout",
     "output_type": "stream",
     "text": [
      "Train on 80000 samples, validate on 20000 samples\n",
      "Epoch 1/2\n",
      "157s - loss: 0.6309 - acc: 0.6257 - val_loss: 0.6019 - val_acc: 0.6520\n",
      "Epoch 2/2\n",
      "120s - loss: 0.4896 - acc: 0.7790 - val_loss: 0.6450 - val_acc: 0.6344\n"
     ]
    },
    {
     "data": {
      "text/plain": [
       "<keras.callbacks.History at 0x7f65d83f60b8>"
      ]
     },
     "execution_count": 111,
     "metadata": {},
     "output_type": "execute_result"
    }
   ],
   "source": [
    "mlp = MLP(MAX_NB_WORDS)\n",
    "mlp.model.fit([x_train[:100000], x_train[100000:]], y_train, batch_size=m, nb_epoch=2, verbose=2, validation_split=0.2)"
   ]
  },
  {
   "cell_type": "code",
   "execution_count": 114,
   "metadata": {
    "collapsed": false
   },
   "outputs": [
    {
     "name": "stdout",
     "output_type": "stream",
     "text": [
      "CPU times: user 1min 16s, sys: 16.3 s, total: 1min 33s\n",
      "Wall time: 1min 14s\n"
     ]
    }
   ],
   "source": [
    "%%time\n",
    "enc_q_train = text_vae.encoder.predict(x_train[:100000])\n",
    "enc_d_train = text_vae.encoder.predict(x_train[100000:])\n"
   ]
  },
  {
   "cell_type": "code",
   "execution_count": 119,
   "metadata": {
    "collapsed": false
   },
   "outputs": [
    {
     "name": "stdout",
     "output_type": "stream",
     "text": [
      "Train on 80000 samples, validate on 20000 samples\n",
      "Epoch 1/100\n",
      "1s - loss: 0.6890 - acc: 0.5340 - val_loss: 0.6850 - val_acc: 0.5546\n",
      "Epoch 2/100\n",
      "0s - loss: 0.6831 - acc: 0.5482 - val_loss: 0.6876 - val_acc: 0.5551\n",
      "Epoch 3/100\n",
      "0s - loss: 0.6804 - acc: 0.5538 - val_loss: 0.6768 - val_acc: 0.5736\n",
      "Epoch 4/100\n",
      "0s - loss: 0.6773 - acc: 0.5604 - val_loss: 0.6751 - val_acc: 0.5742\n",
      "Epoch 5/100\n",
      "0s - loss: 0.6748 - acc: 0.5621 - val_loss: 0.6725 - val_acc: 0.5746\n",
      "Epoch 6/100\n",
      "0s - loss: 0.6738 - acc: 0.5649 - val_loss: 0.6718 - val_acc: 0.5758\n",
      "Epoch 7/100\n",
      "0s - loss: 0.6724 - acc: 0.5645 - val_loss: 0.6751 - val_acc: 0.5526\n",
      "Epoch 8/100\n",
      "0s - loss: 0.6740 - acc: 0.5635 - val_loss: 0.6752 - val_acc: 0.5524\n",
      "Epoch 9/100\n",
      "0s - loss: 0.6719 - acc: 0.5653 - val_loss: 0.6695 - val_acc: 0.5783\n",
      "Epoch 10/100\n",
      "0s - loss: 0.6698 - acc: 0.5667 - val_loss: 0.6673 - val_acc: 0.5723\n",
      "Epoch 11/100\n",
      "0s - loss: 0.6702 - acc: 0.5670 - val_loss: 0.6663 - val_acc: 0.5763\n",
      "Epoch 12/100\n",
      "0s - loss: 0.6687 - acc: 0.5680 - val_loss: 0.6657 - val_acc: 0.5738\n",
      "Epoch 13/100\n",
      "0s - loss: 0.6681 - acc: 0.5692 - val_loss: 0.6702 - val_acc: 0.5775\n",
      "Epoch 14/100\n",
      "0s - loss: 0.6676 - acc: 0.5700 - val_loss: 0.6646 - val_acc: 0.5735\n",
      "Epoch 15/100\n",
      "0s - loss: 0.6676 - acc: 0.5702 - val_loss: 0.6692 - val_acc: 0.5599\n",
      "Epoch 16/100\n",
      "0s - loss: 0.6661 - acc: 0.5704 - val_loss: 0.6637 - val_acc: 0.5693\n",
      "Epoch 17/100\n",
      "0s - loss: 0.6646 - acc: 0.5721 - val_loss: 0.6613 - val_acc: 0.5866\n",
      "Epoch 18/100\n",
      "0s - loss: 0.6648 - acc: 0.5717 - val_loss: 0.6619 - val_acc: 0.5875\n",
      "Epoch 19/100\n",
      "0s - loss: 0.6640 - acc: 0.5724 - val_loss: 0.6610 - val_acc: 0.5842\n",
      "Epoch 20/100\n",
      "0s - loss: 0.6623 - acc: 0.5743 - val_loss: 0.6607 - val_acc: 0.5737\n",
      "Epoch 21/100\n",
      "0s - loss: 0.6623 - acc: 0.5753 - val_loss: 0.6584 - val_acc: 0.5871\n",
      "Epoch 22/100\n",
      "0s - loss: 0.6620 - acc: 0.5756 - val_loss: 0.6577 - val_acc: 0.5859\n",
      "Epoch 23/100\n",
      "0s - loss: 0.6605 - acc: 0.5775 - val_loss: 0.6583 - val_acc: 0.5854\n",
      "Epoch 24/100\n",
      "0s - loss: 0.6610 - acc: 0.5772 - val_loss: 0.6601 - val_acc: 0.5701\n",
      "Epoch 25/100\n",
      "0s - loss: 0.6594 - acc: 0.5784 - val_loss: 0.6559 - val_acc: 0.5857\n",
      "Epoch 26/100\n",
      "0s - loss: 0.6595 - acc: 0.5791 - val_loss: 0.6560 - val_acc: 0.5888\n",
      "Epoch 27/100\n",
      "0s - loss: 0.6599 - acc: 0.5776 - val_loss: 0.6550 - val_acc: 0.5890\n",
      "Epoch 28/100\n",
      "0s - loss: 0.6590 - acc: 0.5805 - val_loss: 0.6598 - val_acc: 0.5695\n",
      "Epoch 29/100\n",
      "0s - loss: 0.6586 - acc: 0.5772 - val_loss: 0.6552 - val_acc: 0.5847\n",
      "Epoch 30/100\n",
      "0s - loss: 0.6579 - acc: 0.5791 - val_loss: 0.6607 - val_acc: 0.5765\n",
      "Epoch 31/100\n",
      "0s - loss: 0.6579 - acc: 0.5798 - val_loss: 0.6578 - val_acc: 0.5741\n",
      "Epoch 32/100\n",
      "0s - loss: 0.6575 - acc: 0.5802 - val_loss: 0.6631 - val_acc: 0.5723\n",
      "Epoch 33/100\n",
      "0s - loss: 0.6572 - acc: 0.5805 - val_loss: 0.6545 - val_acc: 0.5898\n",
      "Epoch 34/100\n",
      "0s - loss: 0.6570 - acc: 0.5817 - val_loss: 0.6535 - val_acc: 0.5871\n",
      "Epoch 35/100\n",
      "0s - loss: 0.6557 - acc: 0.5831 - val_loss: 0.6525 - val_acc: 0.5933\n",
      "Epoch 36/100\n",
      "0s - loss: 0.6554 - acc: 0.5811 - val_loss: 0.6524 - val_acc: 0.5912\n",
      "Epoch 37/100\n",
      "0s - loss: 0.6553 - acc: 0.5837 - val_loss: 0.6520 - val_acc: 0.5910\n",
      "Epoch 38/100\n",
      "0s - loss: 0.6562 - acc: 0.5827 - val_loss: 0.6518 - val_acc: 0.5951\n",
      "Epoch 39/100\n",
      "0s - loss: 0.6552 - acc: 0.5832 - val_loss: 0.6514 - val_acc: 0.5934\n",
      "Epoch 40/100\n",
      "0s - loss: 0.6549 - acc: 0.5844 - val_loss: 0.6638 - val_acc: 0.5599\n",
      "Epoch 41/100\n",
      "0s - loss: 0.6561 - acc: 0.5806 - val_loss: 0.6517 - val_acc: 0.5923\n",
      "Epoch 42/100\n",
      "0s - loss: 0.6549 - acc: 0.5831 - val_loss: 0.6519 - val_acc: 0.5870\n",
      "Epoch 43/100\n",
      "0s - loss: 0.6538 - acc: 0.5851 - val_loss: 0.6563 - val_acc: 0.5733\n",
      "Epoch 44/100\n",
      "0s - loss: 0.6556 - acc: 0.5828 - val_loss: 0.6533 - val_acc: 0.5817\n",
      "Epoch 45/100\n",
      "0s - loss: 0.6536 - acc: 0.5861 - val_loss: 0.6502 - val_acc: 0.5927\n",
      "Epoch 46/100\n",
      "0s - loss: 0.6530 - acc: 0.5867 - val_loss: 0.6510 - val_acc: 0.5859\n",
      "Epoch 47/100\n",
      "0s - loss: 0.6538 - acc: 0.5851 - val_loss: 0.6513 - val_acc: 0.5884\n",
      "Epoch 48/100\n",
      "0s - loss: 0.6535 - acc: 0.5839 - val_loss: 0.6491 - val_acc: 0.5956\n",
      "Epoch 49/100\n",
      "0s - loss: 0.6523 - acc: 0.5857 - val_loss: 0.6495 - val_acc: 0.5942\n",
      "Epoch 50/100\n",
      "0s - loss: 0.6523 - acc: 0.5871 - val_loss: 0.6488 - val_acc: 0.5938\n",
      "Epoch 51/100\n",
      "0s - loss: 0.6543 - acc: 0.5824 - val_loss: 0.6515 - val_acc: 0.5913\n",
      "Epoch 52/100\n",
      "0s - loss: 0.6520 - acc: 0.5868 - val_loss: 0.6486 - val_acc: 0.5981\n",
      "Epoch 53/100\n",
      "0s - loss: 0.6532 - acc: 0.5839 - val_loss: 0.6594 - val_acc: 0.5840\n",
      "Epoch 54/100\n",
      "0s - loss: 0.6548 - acc: 0.5837 - val_loss: 0.6490 - val_acc: 0.5919\n",
      "Epoch 55/100\n",
      "0s - loss: 0.6529 - acc: 0.5865 - val_loss: 0.6599 - val_acc: 0.5708\n",
      "Epoch 56/100\n",
      "0s - loss: 0.6525 - acc: 0.5865 - val_loss: 0.6523 - val_acc: 0.5881\n",
      "Epoch 57/100\n",
      "0s - loss: 0.6524 - acc: 0.5857 - val_loss: 0.6484 - val_acc: 0.5955\n",
      "Epoch 58/100\n",
      "0s - loss: 0.6521 - acc: 0.5861 - val_loss: 0.6485 - val_acc: 0.5918\n",
      "Epoch 59/100\n",
      "0s - loss: 0.6519 - acc: 0.5866 - val_loss: 0.6571 - val_acc: 0.5760\n",
      "Epoch 60/100\n",
      "0s - loss: 0.6536 - acc: 0.5851 - val_loss: 0.6484 - val_acc: 0.5971\n",
      "Epoch 61/100\n",
      "0s - loss: 0.6519 - acc: 0.5876 - val_loss: 0.6496 - val_acc: 0.5885\n",
      "Epoch 62/100\n",
      "0s - loss: 0.6516 - acc: 0.5884 - val_loss: 0.6562 - val_acc: 0.5769\n",
      "Epoch 63/100\n",
      "0s - loss: 0.6517 - acc: 0.5877 - val_loss: 0.6524 - val_acc: 0.5794\n",
      "Epoch 64/100\n",
      "0s - loss: 0.6521 - acc: 0.5849 - val_loss: 0.6517 - val_acc: 0.5896\n",
      "Epoch 65/100\n",
      "0s - loss: 0.6521 - acc: 0.5871 - val_loss: 0.6608 - val_acc: 0.5683\n",
      "Epoch 66/100\n",
      "0s - loss: 0.6540 - acc: 0.5841 - val_loss: 0.6543 - val_acc: 0.5733\n",
      "Epoch 67/100\n",
      "0s - loss: 0.6531 - acc: 0.5838 - val_loss: 0.6547 - val_acc: 0.5991\n",
      "Epoch 68/100\n",
      "0s - loss: 0.6509 - acc: 0.5884 - val_loss: 0.6480 - val_acc: 0.5945\n",
      "Epoch 69/100\n",
      "0s - loss: 0.6503 - acc: 0.5892 - val_loss: 0.6477 - val_acc: 0.5958\n",
      "Epoch 70/100\n",
      "0s - loss: 0.6498 - acc: 0.5889 - val_loss: 0.6477 - val_acc: 0.5953\n",
      "Epoch 71/100\n",
      "0s - loss: 0.6505 - acc: 0.5875 - val_loss: 0.6471 - val_acc: 0.5950\n",
      "Epoch 72/100\n",
      "0s - loss: 0.6502 - acc: 0.5905 - val_loss: 0.6474 - val_acc: 0.5932\n",
      "Epoch 73/100\n",
      "0s - loss: 0.6507 - acc: 0.5885 - val_loss: 0.6499 - val_acc: 0.5867\n",
      "Epoch 74/100\n",
      "0s - loss: 0.6508 - acc: 0.5877 - val_loss: 0.6502 - val_acc: 0.5892\n",
      "Epoch 75/100\n",
      "0s - loss: 0.6508 - acc: 0.5884 - val_loss: 0.6489 - val_acc: 0.5877\n",
      "Epoch 76/100\n",
      "0s - loss: 0.6500 - acc: 0.5888 - val_loss: 0.6476 - val_acc: 0.5921\n",
      "Epoch 77/100\n",
      "0s - loss: 0.6495 - acc: 0.5885 - val_loss: 0.6474 - val_acc: 0.5921\n",
      "Epoch 78/100\n",
      "0s - loss: 0.6511 - acc: 0.5867 - val_loss: 0.6492 - val_acc: 0.5868\n",
      "Epoch 79/100\n",
      "0s - loss: 0.6500 - acc: 0.5885 - val_loss: 0.6461 - val_acc: 0.5965\n",
      "Epoch 80/100\n",
      "0s - loss: 0.6497 - acc: 0.5896 - val_loss: 0.6465 - val_acc: 0.5949\n",
      "Epoch 81/100\n",
      "0s - loss: 0.6499 - acc: 0.5895 - val_loss: 0.6508 - val_acc: 0.5867\n",
      "Epoch 82/100\n",
      "0s - loss: 0.6500 - acc: 0.5904 - val_loss: 0.6467 - val_acc: 0.5938\n",
      "Epoch 83/100\n",
      "0s - loss: 0.6491 - acc: 0.5912 - val_loss: 0.6464 - val_acc: 0.5958\n",
      "Epoch 84/100\n",
      "0s - loss: 0.6491 - acc: 0.5903 - val_loss: 0.6492 - val_acc: 0.5907\n",
      "Epoch 85/100\n",
      "0s - loss: 0.6492 - acc: 0.5898 - val_loss: 0.6462 - val_acc: 0.5943\n",
      "Epoch 86/100\n",
      "0s - loss: 0.6484 - acc: 0.5911 - val_loss: 0.6452 - val_acc: 0.5974\n",
      "Epoch 87/100\n",
      "0s - loss: 0.6481 - acc: 0.5912 - val_loss: 0.6494 - val_acc: 0.5898\n",
      "Epoch 88/100\n",
      "0s - loss: 0.6483 - acc: 0.5910 - val_loss: 0.6464 - val_acc: 0.5948\n",
      "Epoch 89/100\n",
      "0s - loss: 0.6499 - acc: 0.5854 - val_loss: 0.6459 - val_acc: 0.5952\n",
      "Epoch 90/100\n",
      "0s - loss: 0.6484 - acc: 0.5904 - val_loss: 0.6483 - val_acc: 0.5861\n",
      "Epoch 91/100\n",
      "0s - loss: 0.6487 - acc: 0.5900 - val_loss: 0.6552 - val_acc: 0.5765\n",
      "Epoch 92/100\n",
      "0s - loss: 0.6518 - acc: 0.5847 - val_loss: 0.6454 - val_acc: 0.5928\n",
      "Epoch 93/100\n",
      "0s - loss: 0.6481 - acc: 0.5910 - val_loss: 0.6452 - val_acc: 0.5949\n",
      "Epoch 94/100\n",
      "0s - loss: 0.6486 - acc: 0.5902 - val_loss: 0.6550 - val_acc: 0.5841\n",
      "Epoch 95/100\n",
      "0s - loss: 0.6482 - acc: 0.5914 - val_loss: 0.6453 - val_acc: 0.5949\n",
      "Epoch 96/100\n",
      "0s - loss: 0.6480 - acc: 0.5905 - val_loss: 0.6452 - val_acc: 0.5946\n",
      "Epoch 97/100\n",
      "0s - loss: 0.6479 - acc: 0.5902 - val_loss: 0.6498 - val_acc: 0.5921\n",
      "Epoch 98/100\n",
      "0s - loss: 0.6482 - acc: 0.5924 - val_loss: 0.6446 - val_acc: 0.5965\n",
      "Epoch 99/100\n",
      "0s - loss: 0.6479 - acc: 0.5894 - val_loss: 0.6462 - val_acc: 0.5931\n",
      "Epoch 100/100\n",
      "0s - loss: 0.6485 - acc: 0.5886 - val_loss: 0.6507 - val_acc: 0.5900\n"
     ]
    },
    {
     "data": {
      "text/plain": [
       "<keras.callbacks.History at 0x7f65d765ea58>"
      ]
     },
     "execution_count": 119,
     "metadata": {},
     "output_type": "execute_result"
    }
   ],
   "source": [
    "mlp = MLP(32) # use text_vae.latent_dim\n",
    "mlp.model.fit([enc_q_train, enc_d_train], y_train, batch_size=m, nb_epoch=100, verbose=2, validation_split=0.2)"
   ]
  },
  {
   "cell_type": "markdown",
   "metadata": {},
   "source": [
    "# Glove Feature Experiments"
   ]
  },
  {
   "cell_type": "code",
   "execution_count": 129,
   "metadata": {
    "collapsed": true
   },
   "outputs": [],
   "source": [
    "from keras.preprocessing.text import Tokenizer\n",
    "from keras.preprocessing.sequence import pad_sequences\n",
    "\n",
    "EMBEDDING_DIM = 50\n",
    "MAX_SEQUENCE_LENGTH = 5"
   ]
  },
  {
   "cell_type": "code",
   "execution_count": 123,
   "metadata": {
    "collapsed": false
   },
   "outputs": [
    {
     "name": "stdout",
     "output_type": "stream",
     "text": [
      "Found 137282 unique tokens\n",
      "Number of Vocab: 50001\n"
     ]
    }
   ],
   "source": [
    "tokenizer = Tokenizer(MAX_NB_WORDS)\n",
    "tokenizer.fit_on_texts(df.q.tolist() + df.d.tolist())\n",
    "word_index = tokenizer.word_index #the dict values start from 1 so this is fine with zeropadding\n",
    "index2word = {v: k for k, v in word_index.items()}\n",
    "print('Found %s unique tokens' % len(word_index))\n",
    "NB_WORDS = (min(tokenizer.nb_words, len(word_index)) + 1 ) #+1 for zero padding\n",
    "print('Number of Vocab: %d' % NB_WORDS)"
   ]
  },
  {
   "cell_type": "code",
   "execution_count": 124,
   "metadata": {
    "collapsed": false
   },
   "outputs": [
    {
     "name": "stdout",
     "output_type": "stream",
     "text": [
      "Found 400000 word vectors.\n",
      "Null word embeddings: 1\n"
     ]
    }
   ],
   "source": [
    "GLOVE_EMBEDDING = '/home/t-jamano/data/glove/glove.6B.50d.txt'\n",
    "embeddings_index = {}\n",
    "f = open(GLOVE_EMBEDDING, encoding='utf8')\n",
    "for line in f:\n",
    "    values = line.split()\n",
    "    word = values[0]\n",
    "    coefs = np.asarray(values[1:], dtype='float32')\n",
    "    embeddings_index[word] = coefs\n",
    "f.close()\n",
    "\n",
    "print('Found %s word vectors.' % len(embeddings_index))\n",
    "\n",
    "\n",
    "glove_embedding_matrix = np.zeros((NB_WORDS, EMBEDDING_DIM))\n",
    "for word, i in word_index.items():\n",
    "    if i < NB_WORDS:\n",
    "        embedding_vector = embeddings_index.get(word)\n",
    "        if embedding_vector is not None:\n",
    "            # words not found in embedding index will be the word embedding of 'unk'.\n",
    "            glove_embedding_matrix[i] = embedding_vector\n",
    "        else:\n",
    "            glove_embedding_matrix[i] = embeddings_index.get('unk')\n",
    "print('Null word embeddings: %d' % np.sum(np.sum(glove_embedding_matrix, axis=1) == 0))"
   ]
  },
  {
   "cell_type": "markdown",
   "metadata": {},
   "source": [
    "### add pre-trained w2v into keras Embedding layer"
   ]
  },
  {
   "cell_type": "code",
   "execution_count": 149,
   "metadata": {
    "collapsed": false
   },
   "outputs": [],
   "source": [
    "# w2vVectorisor = Sequential()\n",
    "# w2vVectorisor.add(Embedding(NB_WORDS, EMBEDDING_DIM, weights=glove_embedding_matrix[0],\n",
    "#                             input_length=MAX_SEQUENCE_LENGTH, trainable=False))"
   ]
  },
  {
   "cell_type": "markdown",
   "metadata": {},
   "source": [
    "## Keras w2v model"
   ]
  },
  {
   "cell_type": "code",
   "execution_count": 156,
   "metadata": {
    "collapsed": false
   },
   "outputs": [],
   "source": [
    "\n",
    "class W2vVectorisor():\n",
    "    def __init__(self, input_dim):\n",
    "        \n",
    "        self.input_dim = input_dim\n",
    "        x_input = Input((self.input_dim,))\n",
    "        self.embed = Embedding(NB_WORDS, EMBEDDING_DIM, weights=glove_embedding_matrix,\n",
    "                            input_length=MAX_SEQUENCE_LENGTH, trainable=False)\n",
    "        pred = Flatten()(embed(x_input))\n",
    "        \n",
    "        self.model = Model(x_input, pred)\n",
    "        \n",
    "        \n",
    "w2vVectorisor = W2vVectorisor(MAX_SEQUENCE_LENGTH)\n"
   ]
  },
  {
   "cell_type": "code",
   "execution_count": 162,
   "metadata": {
    "collapsed": false
   },
   "outputs": [],
   "source": [
    "x_train = tokenizer.texts_to_sequences(texts)\n",
    "x_train = pad_sequences(x_train, maxlen=MAX_SEQUENCE_LENGTH)"
   ]
  },
  {
   "cell_type": "code",
   "execution_count": 163,
   "metadata": {
    "collapsed": false
   },
   "outputs": [],
   "source": [
    "x_w2v_train = w2vVectorisor.model.predict(x_train)"
   ]
  },
  {
   "cell_type": "code",
   "execution_count": 159,
   "metadata": {
    "collapsed": true
   },
   "outputs": [],
   "source": [
    "w2v_vae = VAE(EMBEDDING_DIM * MAX_SEQUENCE_LENGTH)"
   ]
  },
  {
   "cell_type": "code",
   "execution_count": 160,
   "metadata": {
    "collapsed": false
   },
   "outputs": [
    {
     "name": "stdout",
     "output_type": "stream",
     "text": [
      "Train on 160000 samples, validate on 40000 samples\n",
      "Epoch 1/15\n",
      "2s - loss: 22.5907 - val_loss: 1.4073\n",
      "Epoch 2/15\n",
      "1s - loss: -3.3560e+00 - val_loss: -1.9822e-01\n",
      "Epoch 3/15\n",
      "1s - loss: -5.0591e+00 - val_loss: -1.7543e+00\n",
      "Epoch 4/15\n",
      "1s - loss: -6.6564e+00 - val_loss: -3.3193e+00\n",
      "Epoch 5/15\n",
      "1s - loss: -7.7032e+00 - val_loss: -3.9780e+00\n",
      "Epoch 6/15\n",
      "1s - loss: -8.1868e+00 - val_loss: -4.2386e+00\n",
      "Epoch 7/15\n",
      "1s - loss: -8.5107e+00 - val_loss: -4.4075e+00\n",
      "Epoch 8/15\n",
      "1s - loss: -8.7314e+00 - val_loss: -4.5168e+00\n",
      "Epoch 9/15\n",
      "1s - loss: -8.8602e+00 - val_loss: -4.5977e+00\n",
      "Epoch 10/15\n",
      "1s - loss: -8.9463e+00 - val_loss: -4.6420e+00\n",
      "Epoch 11/15\n",
      "1s - loss: -8.9926e+00 - val_loss: -4.6825e+00\n",
      "Epoch 12/15\n",
      "1s - loss: -9.0268e+00 - val_loss: -4.7263e+00\n",
      "Epoch 13/15\n",
      "1s - loss: -9.0610e+00 - val_loss: -4.7633e+00\n",
      "Epoch 14/15\n",
      "1s - loss: -9.0890e+00 - val_loss: -4.7787e+00\n",
      "Epoch 15/15\n",
      "1s - loss: -9.1191e+00 - val_loss: -4.8106e+00\n"
     ]
    },
    {
     "data": {
      "text/plain": [
       "<keras.callbacks.History at 0x7f65d2624828>"
      ]
     },
     "execution_count": 160,
     "metadata": {},
     "output_type": "execute_result"
    }
   ],
   "source": [
    "w2v_vae.model.fit(x_w2v_train, x_w2v_train, batch_size=m, nb_epoch=n_epoch, verbose=2, validation_split=0.2)"
   ]
  },
  {
   "cell_type": "code",
   "execution_count": 173,
   "metadata": {
    "collapsed": true
   },
   "outputs": [],
   "source": [
    "x_w2v_enc_train = w2v_vae.encoder.predict(x_w2v_train)"
   ]
  },
  {
   "cell_type": "code",
   "execution_count": 177,
   "metadata": {
    "collapsed": false,
    "scrolled": true
   },
   "outputs": [
    {
     "name": "stdout",
     "output_type": "stream",
     "text": [
      "Train on 80000 samples, validate on 20000 samples\n",
      "Epoch 1/50\n",
      "1s - loss: 0.6462 - acc: 0.6115 - val_loss: 0.6321 - val_acc: 0.6194\n",
      "Epoch 2/50\n",
      "0s - loss: 0.6258 - acc: 0.6292 - val_loss: 0.6286 - val_acc: 0.6207\n",
      "Epoch 3/50\n",
      "0s - loss: 0.6206 - acc: 0.6339 - val_loss: 0.6253 - val_acc: 0.6231\n",
      "Epoch 4/50\n",
      "0s - loss: 0.6160 - acc: 0.6375 - val_loss: 0.6229 - val_acc: 0.6274\n",
      "Epoch 5/50\n",
      "0s - loss: 0.6120 - acc: 0.6409 - val_loss: 0.6230 - val_acc: 0.6264\n",
      "Epoch 6/50\n",
      "0s - loss: 0.6073 - acc: 0.6461 - val_loss: 0.6193 - val_acc: 0.6317\n",
      "Epoch 7/50\n",
      "0s - loss: 0.6027 - acc: 0.6515 - val_loss: 0.6194 - val_acc: 0.6310\n",
      "Epoch 8/50\n",
      "0s - loss: 0.5980 - acc: 0.6580 - val_loss: 0.6172 - val_acc: 0.6329\n",
      "Epoch 9/50\n",
      "0s - loss: 0.5932 - acc: 0.6619 - val_loss: 0.6187 - val_acc: 0.6301\n",
      "Epoch 10/50\n",
      "0s - loss: 0.5884 - acc: 0.6677 - val_loss: 0.6156 - val_acc: 0.6344\n",
      "Epoch 11/50\n",
      "0s - loss: 0.5828 - acc: 0.6746 - val_loss: 0.6149 - val_acc: 0.6340\n",
      "Epoch 12/50\n",
      "0s - loss: 0.5770 - acc: 0.6821 - val_loss: 0.6163 - val_acc: 0.6334\n",
      "Epoch 13/50\n",
      "0s - loss: 0.5706 - acc: 0.6898 - val_loss: 0.6149 - val_acc: 0.6330\n",
      "Epoch 14/50\n",
      "0s - loss: 0.5643 - acc: 0.6977 - val_loss: 0.6137 - val_acc: 0.6338\n",
      "Epoch 15/50\n",
      "0s - loss: 0.5569 - acc: 0.7066 - val_loss: 0.6160 - val_acc: 0.6385\n",
      "Epoch 16/50\n",
      "0s - loss: 0.5499 - acc: 0.7137 - val_loss: 0.6154 - val_acc: 0.6390\n",
      "Epoch 17/50\n",
      "0s - loss: 0.5423 - acc: 0.7224 - val_loss: 0.6191 - val_acc: 0.6301\n",
      "Epoch 18/50\n",
      "0s - loss: 0.5353 - acc: 0.7308 - val_loss: 0.6143 - val_acc: 0.6343\n",
      "Epoch 19/50\n",
      "0s - loss: 0.5261 - acc: 0.7400 - val_loss: 0.6181 - val_acc: 0.6379\n",
      "Epoch 20/50\n",
      "0s - loss: 0.5179 - acc: 0.7499 - val_loss: 0.6192 - val_acc: 0.6287\n",
      "Epoch 21/50\n",
      "0s - loss: 0.5089 - acc: 0.7597 - val_loss: 0.6177 - val_acc: 0.6345\n",
      "Epoch 22/50\n",
      "0s - loss: 0.5003 - acc: 0.7689 - val_loss: 0.6186 - val_acc: 0.6323\n",
      "Epoch 23/50\n",
      "0s - loss: 0.4917 - acc: 0.7775 - val_loss: 0.6208 - val_acc: 0.6297\n",
      "Epoch 24/50\n",
      "0s - loss: 0.4827 - acc: 0.7867 - val_loss: 0.6270 - val_acc: 0.6265\n",
      "Epoch 25/50\n",
      "0s - loss: 0.4754 - acc: 0.7914 - val_loss: 0.6232 - val_acc: 0.6325\n",
      "Epoch 26/50\n",
      "0s - loss: 0.4664 - acc: 0.8007 - val_loss: 0.6307 - val_acc: 0.6323\n",
      "Epoch 27/50\n",
      "0s - loss: 0.4571 - acc: 0.8080 - val_loss: 0.6272 - val_acc: 0.6284\n",
      "Epoch 28/50\n",
      "0s - loss: 0.4480 - acc: 0.8167 - val_loss: 0.6312 - val_acc: 0.6289\n",
      "Epoch 29/50\n",
      "0s - loss: 0.4417 - acc: 0.8191 - val_loss: 0.6339 - val_acc: 0.6257\n",
      "Epoch 30/50\n",
      "0s - loss: 0.4325 - acc: 0.8268 - val_loss: 0.6358 - val_acc: 0.6250\n",
      "Epoch 31/50\n",
      "0s - loss: 0.4249 - acc: 0.8319 - val_loss: 0.6394 - val_acc: 0.6281\n",
      "Epoch 32/50\n",
      "0s - loss: 0.4169 - acc: 0.8384 - val_loss: 0.6516 - val_acc: 0.6225\n",
      "Epoch 33/50\n",
      "0s - loss: 0.4091 - acc: 0.8435 - val_loss: 0.6451 - val_acc: 0.6249\n",
      "Epoch 34/50\n",
      "0s - loss: 0.4008 - acc: 0.8502 - val_loss: 0.6490 - val_acc: 0.6254\n",
      "Epoch 35/50\n",
      "0s - loss: 0.3944 - acc: 0.8533 - val_loss: 0.6592 - val_acc: 0.6217\n",
      "Epoch 36/50\n",
      "0s - loss: 0.3867 - acc: 0.8579 - val_loss: 0.6639 - val_acc: 0.6276\n",
      "Epoch 37/50\n",
      "0s - loss: 0.3800 - acc: 0.8630 - val_loss: 0.6596 - val_acc: 0.6254\n",
      "Epoch 38/50\n",
      "0s - loss: 0.3731 - acc: 0.8669 - val_loss: 0.6634 - val_acc: 0.6209\n",
      "Epoch 39/50\n",
      "0s - loss: 0.3656 - acc: 0.8719 - val_loss: 0.6685 - val_acc: 0.6236\n",
      "Epoch 40/50\n",
      "0s - loss: 0.3608 - acc: 0.8726 - val_loss: 0.6694 - val_acc: 0.6227\n",
      "Epoch 41/50\n",
      "0s - loss: 0.3530 - acc: 0.8793 - val_loss: 0.6748 - val_acc: 0.6230\n",
      "Epoch 42/50\n",
      "0s - loss: 0.3470 - acc: 0.8823 - val_loss: 0.6784 - val_acc: 0.6217\n",
      "Epoch 43/50\n",
      "0s - loss: 0.3408 - acc: 0.8847 - val_loss: 0.6841 - val_acc: 0.6238\n",
      "Epoch 44/50\n",
      "0s - loss: 0.3354 - acc: 0.8889 - val_loss: 0.6862 - val_acc: 0.6224\n",
      "Epoch 45/50\n",
      "0s - loss: 0.3295 - acc: 0.8920 - val_loss: 0.6935 - val_acc: 0.6251\n",
      "Epoch 46/50\n",
      "0s - loss: 0.3255 - acc: 0.8914 - val_loss: 0.7065 - val_acc: 0.6198\n",
      "Epoch 47/50\n",
      "0s - loss: 0.3177 - acc: 0.8983 - val_loss: 0.6993 - val_acc: 0.6253\n",
      "Epoch 48/50\n",
      "0s - loss: 0.3133 - acc: 0.8999 - val_loss: 0.7059 - val_acc: 0.6174\n",
      "Epoch 49/50\n",
      "0s - loss: 0.3076 - acc: 0.9022 - val_loss: 0.7060 - val_acc: 0.6212\n",
      "Epoch 50/50\n",
      "0s - loss: 0.3016 - acc: 0.9056 - val_loss: 0.7109 - val_acc: 0.6208\n"
     ]
    },
    {
     "data": {
      "text/plain": [
       "<keras.callbacks.History at 0x7f65d0fd2f60>"
      ]
     },
     "execution_count": 177,
     "metadata": {},
     "output_type": "execute_result"
    }
   ],
   "source": [
    "w2v_mlp = MLP(EMBEDDING_DIM * MAX_SEQUENCE_LENGTH)\n",
    "w2v_mlp.model.fit([x_w2v_train[:100000], x_w2v_train[100000:]], y_train, batch_size=m, nb_epoch=50, verbose=2, validation_split=0.2)"
   ]
  },
  {
   "cell_type": "code",
   "execution_count": 176,
   "metadata": {
    "collapsed": false,
    "scrolled": true
   },
   "outputs": [
    {
     "name": "stdout",
     "output_type": "stream",
     "text": [
      "Train on 80000 samples, validate on 20000 samples\n",
      "Epoch 1/50\n",
      "1s - loss: 0.6627 - acc: 0.5769 - val_loss: 0.6604 - val_acc: 0.5812\n",
      "Epoch 2/50\n",
      "0s - loss: 0.6527 - acc: 0.5907 - val_loss: 0.6538 - val_acc: 0.5951\n",
      "Epoch 3/50\n",
      "0s - loss: 0.6483 - acc: 0.5989 - val_loss: 0.6523 - val_acc: 0.6000\n",
      "Epoch 4/50\n",
      "0s - loss: 0.6447 - acc: 0.6057 - val_loss: 0.6483 - val_acc: 0.6017\n",
      "Epoch 5/50\n",
      "0s - loss: 0.6420 - acc: 0.6112 - val_loss: 0.6445 - val_acc: 0.6067\n",
      "Epoch 6/50\n",
      "0s - loss: 0.6399 - acc: 0.6143 - val_loss: 0.6428 - val_acc: 0.6100\n",
      "Epoch 7/50\n",
      "0s - loss: 0.6382 - acc: 0.6166 - val_loss: 0.6409 - val_acc: 0.6119\n",
      "Epoch 8/50\n",
      "0s - loss: 0.6373 - acc: 0.6173 - val_loss: 0.6415 - val_acc: 0.6107\n",
      "Epoch 9/50\n",
      "0s - loss: 0.6365 - acc: 0.6179 - val_loss: 0.6403 - val_acc: 0.6127\n",
      "Epoch 10/50\n",
      "0s - loss: 0.6359 - acc: 0.6173 - val_loss: 0.6400 - val_acc: 0.6110\n",
      "Epoch 11/50\n",
      "0s - loss: 0.6355 - acc: 0.6179 - val_loss: 0.6395 - val_acc: 0.6106\n",
      "Epoch 12/50\n",
      "0s - loss: 0.6346 - acc: 0.6187 - val_loss: 0.6382 - val_acc: 0.6112\n",
      "Epoch 13/50\n",
      "0s - loss: 0.6341 - acc: 0.6194 - val_loss: 0.6385 - val_acc: 0.6137\n",
      "Epoch 14/50\n",
      "0s - loss: 0.6336 - acc: 0.6212 - val_loss: 0.6378 - val_acc: 0.6133\n",
      "Epoch 15/50\n",
      "0s - loss: 0.6339 - acc: 0.6186 - val_loss: 0.6367 - val_acc: 0.6090\n",
      "Epoch 16/50\n",
      "0s - loss: 0.6331 - acc: 0.6205 - val_loss: 0.6364 - val_acc: 0.6134\n",
      "Epoch 17/50\n",
      "0s - loss: 0.6320 - acc: 0.6213 - val_loss: 0.6359 - val_acc: 0.6140\n",
      "Epoch 18/50\n",
      "0s - loss: 0.6322 - acc: 0.6212 - val_loss: 0.6367 - val_acc: 0.6139\n",
      "Epoch 19/50\n",
      "0s - loss: 0.6323 - acc: 0.6207 - val_loss: 0.6355 - val_acc: 0.6123\n",
      "Epoch 20/50\n",
      "0s - loss: 0.6317 - acc: 0.6212 - val_loss: 0.6357 - val_acc: 0.6106\n",
      "Epoch 21/50\n",
      "0s - loss: 0.6311 - acc: 0.6233 - val_loss: 0.6385 - val_acc: 0.6132\n",
      "Epoch 22/50\n",
      "0s - loss: 0.6313 - acc: 0.6218 - val_loss: 0.6373 - val_acc: 0.6149\n",
      "Epoch 23/50\n",
      "0s - loss: 0.6306 - acc: 0.6212 - val_loss: 0.6355 - val_acc: 0.6089\n",
      "Epoch 24/50\n",
      "0s - loss: 0.6308 - acc: 0.6217 - val_loss: 0.6368 - val_acc: 0.6125\n",
      "Epoch 25/50\n",
      "0s - loss: 0.6304 - acc: 0.6223 - val_loss: 0.6366 - val_acc: 0.6091\n",
      "Epoch 26/50\n",
      "0s - loss: 0.6299 - acc: 0.6228 - val_loss: 0.6355 - val_acc: 0.6119\n",
      "Epoch 27/50\n",
      "0s - loss: 0.6294 - acc: 0.6241 - val_loss: 0.6350 - val_acc: 0.6149\n",
      "Epoch 28/50\n",
      "0s - loss: 0.6294 - acc: 0.6230 - val_loss: 0.6341 - val_acc: 0.6127\n",
      "Epoch 29/50\n",
      "0s - loss: 0.6292 - acc: 0.6227 - val_loss: 0.6361 - val_acc: 0.6133\n",
      "Epoch 30/50\n",
      "0s - loss: 0.6295 - acc: 0.6228 - val_loss: 0.6333 - val_acc: 0.6155\n",
      "Epoch 31/50\n",
      "0s - loss: 0.6285 - acc: 0.6231 - val_loss: 0.6348 - val_acc: 0.6127\n",
      "Epoch 32/50\n",
      "0s - loss: 0.6283 - acc: 0.6231 - val_loss: 0.6333 - val_acc: 0.6111\n",
      "Epoch 33/50\n",
      "0s - loss: 0.6290 - acc: 0.6216 - val_loss: 0.6335 - val_acc: 0.6154\n",
      "Epoch 34/50\n",
      "0s - loss: 0.6278 - acc: 0.6233 - val_loss: 0.6333 - val_acc: 0.6153\n",
      "Epoch 35/50\n",
      "0s - loss: 0.6276 - acc: 0.6246 - val_loss: 0.6319 - val_acc: 0.6128\n",
      "Epoch 36/50\n",
      "0s - loss: 0.6273 - acc: 0.6248 - val_loss: 0.6312 - val_acc: 0.6140\n",
      "Epoch 37/50\n",
      "0s - loss: 0.6271 - acc: 0.6238 - val_loss: 0.6314 - val_acc: 0.6170\n",
      "Epoch 38/50\n",
      "0s - loss: 0.6266 - acc: 0.6248 - val_loss: 0.6317 - val_acc: 0.6131\n",
      "Epoch 39/50\n",
      "0s - loss: 0.6269 - acc: 0.6254 - val_loss: 0.6317 - val_acc: 0.6154\n",
      "Epoch 40/50\n",
      "0s - loss: 0.6264 - acc: 0.6263 - val_loss: 0.6391 - val_acc: 0.6142\n",
      "Epoch 41/50\n",
      "0s - loss: 0.6262 - acc: 0.6253 - val_loss: 0.6320 - val_acc: 0.6162\n",
      "Epoch 42/50\n",
      "0s - loss: 0.6260 - acc: 0.6266 - val_loss: 0.6297 - val_acc: 0.6152\n",
      "Epoch 43/50\n",
      "0s - loss: 0.6256 - acc: 0.6254 - val_loss: 0.6305 - val_acc: 0.6150\n",
      "Epoch 44/50\n",
      "0s - loss: 0.6254 - acc: 0.6261 - val_loss: 0.6293 - val_acc: 0.6168\n",
      "Epoch 45/50\n",
      "0s - loss: 0.6250 - acc: 0.6268 - val_loss: 0.6315 - val_acc: 0.6187\n",
      "Epoch 46/50\n",
      "0s - loss: 0.6247 - acc: 0.6270 - val_loss: 0.6296 - val_acc: 0.6152\n",
      "Epoch 47/50\n",
      "0s - loss: 0.6249 - acc: 0.6254 - val_loss: 0.6297 - val_acc: 0.6177\n",
      "Epoch 48/50\n",
      "0s - loss: 0.6243 - acc: 0.6260 - val_loss: 0.6288 - val_acc: 0.6189\n",
      "Epoch 49/50\n",
      "0s - loss: 0.6245 - acc: 0.6253 - val_loss: 0.6292 - val_acc: 0.6179\n",
      "Epoch 50/50\n",
      "0s - loss: 0.6241 - acc: 0.6266 - val_loss: 0.6293 - val_acc: 0.6147\n"
     ]
    },
    {
     "data": {
      "text/plain": [
       "<keras.callbacks.History at 0x7f65d12dda90>"
      ]
     },
     "execution_count": 176,
     "metadata": {},
     "output_type": "execute_result"
    }
   ],
   "source": [
    "w2v_mlp = MLP(32)\n",
    "w2v_mlp.model.fit([x_w2v_enc_train[:100000], x_w2v_enc_train[100000:]], y_train, batch_size=m, nb_epoch=50, verbose=2, validation_split=0.2)"
   ]
  },
  {
   "cell_type": "markdown",
   "metadata": {},
   "source": [
    "# IMDB experiments"
   ]
  },
  {
   "cell_type": "code",
   "execution_count": 182,
   "metadata": {
    "collapsed": true
   },
   "outputs": [],
   "source": [
    "from keras.datasets import imdb\n",
    "\n",
    "MAX_LENGTH = 300\n",
    "NUM_WORDS = 1000"
   ]
  },
  {
   "cell_type": "code",
   "execution_count": 186,
   "metadata": {
    "collapsed": false
   },
   "outputs": [],
   "source": [
    "\n",
    "(X_train, y_train), (X_test, y_test) = imdb.load_data(nb_words=NUM_WORDS)\n"
   ]
  },
  {
   "cell_type": "code",
   "execution_count": 192,
   "metadata": {
    "collapsed": false
   },
   "outputs": [],
   "source": [
    "X_train = pad_sequences(X_train, maxlen=MAX_LENGTH)\n",
    "X_test = pad_sequences(X_test, maxlen=MAX_LENGTH)"
   ]
  },
  {
   "cell_type": "code",
   "execution_count": 198,
   "metadata": {
    "collapsed": true
   },
   "outputs": [],
   "source": [
    "from keras import objectives, backend as K\n",
    "from keras.layers import Bidirectional, Dense, Embedding, Input, Lambda, LSTM, RepeatVector, TimeDistributed\n",
    "from keras.models import Model\n",
    "import keras"
   ]
  },
  {
   "cell_type": "code",
   "execution_count": 204,
   "metadata": {
    "collapsed": true
   },
   "outputs": [],
   "source": [
    "class LSTM_VAE(object):\n",
    "    def create(self, vocab_size=500, max_length=300, latent_rep_size=200):\n",
    "        self.encoder = None\n",
    "        self.decoder = None\n",
    "        self.sentiment_predictor = None\n",
    "        self.autoencoder = None\n",
    "\n",
    "        x = Input(shape=(max_length,))\n",
    "        x_embed = Embedding(vocab_size, 64, input_length=max_length)(x)\n",
    "\n",
    "        vae_loss, encoded = self._build_encoder(x_embed, latent_rep_size=latent_rep_size, max_length=max_length)\n",
    "        self.encoder = Model(x, encoded)\n",
    "\n",
    "        encoded_input = Input(shape=(latent_rep_size,))\n",
    "        predicted_sentiment = self._build_sentiment_predictor(encoded_input)\n",
    "        self.sentiment_predictor = Model(encoded_input, predicted_sentiment)\n",
    "\n",
    "        decoded = self._build_decoder(encoded_input, vocab_size, max_length)\n",
    "        self.decoder = Model(encoded_input, decoded)\n",
    "\n",
    "        self.autoencoder = Model(x, [self._build_decoder(encoded, vocab_size, max_length), self._build_sentiment_predictor(encoded)])\n",
    "        self.autoencoder.compile(optimizer='Adam',\n",
    "                                 loss=[vae_loss, 'binary_crossentropy'],\n",
    "                                 metrics=['accuracy'])\n",
    "        \n",
    "    def _build_encoder(self, x, latent_rep_size=200, max_length=300, epsilon_std=0.01):\n",
    "        h = Bidirectional(LSTM(500, return_sequences=True, name='lstm_1'), merge_mode='concat')(x)\n",
    "        h = Bidirectional(LSTM(500, return_sequences=False, name='lstm_2'), merge_mode='concat')(h)\n",
    "        h = Dense(435, activation='relu', name='dense_1')(h)\n",
    "\n",
    "        def sampling(args):\n",
    "            z_mean_, z_log_var_ = args\n",
    "            batch_size = K.shape(z_mean_)[0]\n",
    "            epsilon = K.random_normal(shape=(batch_size, latent_rep_size), mean=0., std=epsilon_std)\n",
    "            return z_mean_ + K.exp(z_log_var_ / 2) * epsilon\n",
    "\n",
    "        z_mean = Dense(latent_rep_size, name='z_mean', activation='linear')(h)\n",
    "        z_log_var = Dense(latent_rep_size, name='z_log_var', activation='linear')(h)\n",
    "\n",
    "        def vae_loss(x, x_decoded_mean):\n",
    "            x = K.flatten(x)\n",
    "            x_decoded_mean = K.flatten(x_decoded_mean)\n",
    "            xent_loss = max_length * objectives.binary_crossentropy(x, x_decoded_mean)\n",
    "            kl_loss = - 0.5 * K.mean(1 + z_log_var - K.square(z_mean) - K.exp(z_log_var), axis=-1)\n",
    "            return xent_loss + kl_loss\n",
    "\n",
    "        return (vae_loss, Lambda(sampling, output_shape=(latent_rep_size,), name='lambda')([z_mean, z_log_var]))\n",
    "    \n",
    "    def _build_decoder(self, encoded, vocab_size, max_length):\n",
    "        repeated_context = RepeatVector(max_length)(encoded)\n",
    "\n",
    "        h = LSTM(500, return_sequences=True, name='dec_lstm_1')(repeated_context)\n",
    "        h = LSTM(500, return_sequences=True, name='dec_lstm_2')(h)\n",
    "\n",
    "        decoded = TimeDistributed(Dense(vocab_size, activation='softmax'), name='decoded_mean')(h)\n",
    "\n",
    "        return decoded\n",
    "    \n",
    "    def _build_sentiment_predictor(self, encoded):\n",
    "        h = Dense(100, activation='linear')(encoded)\n",
    "\n",
    "        return Dense(1, activation='sigmoid', name='pred')(h)"
   ]
  },
  {
   "cell_type": "code",
   "execution_count": 205,
   "metadata": {
    "collapsed": false
   },
   "outputs": [
    {
     "name": "stderr",
     "output_type": "stream",
     "text": [
      "/home/t-jamano/.local/lib/python3.6/site-packages/keras/engine/topology.py:368: UserWarning: The `regularizers` property of layers/models is deprecated. Regularization losses are now managed via the `losses` layer/model property.\n",
      "  warnings.warn('The `regularizers` property of '\n"
     ]
    }
   ],
   "source": [
    "lstm_vae = LSTM_VAE()\n",
    "lstm_vae.create(NUM_WORDS, MAX_LENGTH)"
   ]
  },
  {
   "cell_type": "code",
   "execution_count": 208,
   "metadata": {
    "collapsed": false
   },
   "outputs": [],
   "source": [
    "temp = np.zeros((X_train.shape[0], MAX_LENGTH, NUM_WORDS))\n",
    "temp[np.expand_dims(np.arange(X_train.shape[0]), axis=0).reshape(X_train.shape[0], 1), np.repeat(np.array([np.arange(MAX_LENGTH)]), X_train.shape[0], axis=0), X_train] = 1\n",
    "\n",
    "X_train_one_hot = temp"
   ]
  },
  {
   "cell_type": "code",
   "execution_count": null,
   "metadata": {
    "collapsed": false
   },
   "outputs": [
    {
     "name": "stdout",
     "output_type": "stream",
     "text": [
      "Epoch 1/10\n"
     ]
    }
   ],
   "source": [
    "lstm_vae.autoencoder.fit(X_train, [X_train_one_hot, y_train], verbose=2)"
   ]
  },
  {
   "cell_type": "code",
   "execution_count": null,
   "metadata": {
    "collapsed": true
   },
   "outputs": [],
   "source": []
  }
 ],
 "metadata": {
  "kernelspec": {
   "display_name": "Python 3",
   "language": "python",
   "name": "python3"
  },
  "language_info": {
   "codemirror_mode": {
    "name": "ipython",
    "version": 3
   },
   "file_extension": ".py",
   "mimetype": "text/x-python",
   "name": "python",
   "nbconvert_exporter": "python",
   "pygments_lexer": "ipython3",
   "version": "3.6.0"
  }
 },
 "nbformat": 4,
 "nbformat_minor": 2
}
